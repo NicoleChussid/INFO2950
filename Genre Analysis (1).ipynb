{
 "cells": [
  {
   "cell_type": "markdown",
   "metadata": {},
   "source": [
    "# INFO 2950 Genre Analysis\n",
    "Clara Lack (cjl276), Nicole Chussid (njc76), Paige Herling (ph422)"
   ]
  },
  {
   "cell_type": "markdown",
   "metadata": {},
   "source": [
    "## Analysis: Quantify genre based on key metrics"
   ]
  },
  {
   "cell_type": "markdown",
   "metadata": {},
   "source": [
    "**Goal:** Ultimately, our research question is looking at trends over decades, but genre plays a critical part in defining decades as well. The 70s were the age of disco and the 90s was the peak of grunge rock, as well as hip-hop, for example. Therefore, we may gain more insight by looking at how our key metrics track with genres, then take a look at what genres were popular in each decade."
   ]
  },
  {
   "cell_type": "markdown",
   "metadata": {},
   "source": [
    "Part 1:"
   ]
  },
  {
   "cell_type": "code",
   "execution_count": 1,
   "metadata": {},
   "outputs": [],
   "source": [
    "## data manipulation and plotting\n",
    "import numpy as np\n",
    "import pandas as pd\n",
    "import matplotlib.pyplot as plt\n",
    "import seaborn as sns\n",
    "import re\n",
    "from collections import Counter\n",
    "from ast import literal_eval\n",
    "\n",
    "## modelling\n",
    "from sklearn.linear_model import LinearRegression\n",
    "from sklearn.linear_model import LogisticRegression\n",
    "from sklearn.model_selection import train_test_split\n",
    "\n",
    "## significance testing\n",
    "from sklearn.linear_model import LinearRegression\n",
    "from scipy import stats\n",
    "from scipy.stats import poisson, ttest_ind"
   ]
  },
  {
   "cell_type": "code",
   "execution_count": 2,
   "metadata": {},
   "outputs": [],
   "source": [
    "data = pd.read_csv('data.csv')\n",
    "data_w_genres = pd.read_csv('data_w_genres.csv')\n",
    "data_by_genres = pd.read_csv('data_by_genres.csv')"
   ]
  },
  {
   "cell_type": "code",
   "execution_count": 3,
   "metadata": {},
   "outputs": [],
   "source": [
    "#create a dataframe genres that matches artists to genre by taking only the first artist\n",
    "# i.e. not including features which can cross genre\n",
    "\n",
    "all_artists = data.copy()\n",
    "all_artists['artists'] = all_artists['artists'].map(lambda x: literal_eval(x))\n",
    "all_artists['artists'] = all_artists['artists'].map(lambda x: x[0])\n",
    "\n",
    "artists_count = all_artists.groupby('artists').count().iloc[:,0]\n",
    "artists_count = artists_count.reset_index()\n",
    "artists_count.columns = ['artists', 'count']\n",
    "\n",
    "all_artists = pd.merge(all_artists, artists_count, on='artists')\n",
    "all_artists['count'] = all_artists['count'].astype(int)\n",
    "all_artists = all_artists[all_artists['count'] >= 50]\n",
    "\n",
    "genres = pd.merge(all_artists, data_w_genres, on='artists')"
   ]
  },
  {
   "cell_type": "code",
   "execution_count": 4,
   "metadata": {},
   "outputs": [],
   "source": [
    "#if an artist is categorized under multiple genres, separate each into a new row\n",
    "\n",
    "multiple_genres = genres.assign(genres=genres.genres.str.split(',')).explode('genres')\n",
    "multiple_genres['genres'] = multiple_genres['genres'].map(lambda x: re.sub(r'\\W+', '', x))"
   ]
  },
  {
   "cell_type": "code",
   "execution_count": 5,
   "metadata": {},
   "outputs": [],
   "source": [
    "#get rid of non-categorized data\n",
    "\n",
    "multiple_genres = multiple_genres[multiple_genres.genres != '']"
   ]
  },
  {
   "cell_type": "code",
   "execution_count": 6,
   "metadata": {},
   "outputs": [],
   "source": [
    "#sort genre by year\n",
    "\n",
    "genres_year = multiple_genres.groupby('year')['genres'].apply(list)\n",
    "genres_year = genres_year.reset_index()"
   ]
  },
  {
   "cell_type": "code",
   "execution_count": 7,
   "metadata": {},
   "outputs": [],
   "source": [
    "genres_year['most_common'] = genres_year['genres'].map(lambda x: Counter(x).most_common(1)[0][0])\n",
    "genres_year['count_mc'] = genres_year['genres'].map(lambda x: Counter(x).most_common(1)[0][1])  "
   ]
  },
  {
   "cell_type": "code",
   "execution_count": 8,
   "metadata": {},
   "outputs": [],
   "source": [
    "total_year = all_artists.groupby('year').count().iloc[:,1]\n",
    "total_year = total_year.reset_index()\n",
    "total_year.columns = ['year', 'total']"
   ]
  },
  {
   "cell_type": "code",
   "execution_count": 9,
   "metadata": {},
   "outputs": [],
   "source": [
    "genres_year = pd.merge(genres_year, total_year, on='year')"
   ]
  },
  {
   "cell_type": "code",
   "execution_count": 10,
   "metadata": {},
   "outputs": [],
   "source": [
    "genres_year['perc_mc'] = genres_year['count_mc'] / genres_year['total']"
   ]
  },
  {
   "cell_type": "code",
   "execution_count": 11,
   "metadata": {},
   "outputs": [
    {
     "data": {
      "image/png": "[encoded data removed]",
      "text/plain": [
       "<Figure size 1440x720 with 1 Axes>"
      ]
     },
     "metadata": {
      "needs_background": "light"
     },
     "output_type": "display_data"
    }
   ],
   "source": [
    "fig,ax = plt.subplots()\n",
    "fig.set_size_inches(20,10)\n",
    "ax = sns.barplot(x='year',y='perc_mc',hue='most_common', data=genres_year, dodge=False, palette='Paired')\n",
    "ax.legend(loc='upper right')\n",
    "plt.xticks(rotation=90)\n",
    "plt.show()"
   ]
  },
  {
   "cell_type": "markdown",
   "metadata": {},
   "source": [
    "Part 2:"
   ]
  },
  {
   "cell_type": "code",
   "execution_count": 12,
   "metadata": {},
   "outputs": [
    {
     "data": {
      "text/html": [
       "<div>\n",
       "<style scoped>\n",
       "    .dataframe tbody tr th:only-of-type {\n",
       "        vertical-align: middle;\n",
       "    }\n",
       "\n",
       "    .dataframe tbody tr th {\n",
       "        vertical-align: top;\n",
       "    }\n",
       "\n",
       "    .dataframe thead th {\n",
       "        text-align: right;\n",
       "    }\n",
       "</style>\n",
       "<table border=\"1\" class=\"dataframe\">\n",
       "  <thead>\n",
       "    <tr style=\"text-align: right;\">\n",
       "      <th></th>\n",
       "      <th>genres</th>\n",
       "      <th>duration_ms_x</th>\n",
       "      <th>tempo_y</th>\n",
       "      <th>loudness_y</th>\n",
       "      <th>key_x</th>\n",
       "      <th>valence_y</th>\n",
       "      <th>acousticness_x</th>\n",
       "      <th>instrumentalness_x</th>\n",
       "      <th>liveness_x</th>\n",
       "      <th>explicit</th>\n",
       "    </tr>\n",
       "  </thead>\n",
       "  <tbody>\n",
       "    <tr>\n",
       "      <th>0</th>\n",
       "      <td>classical</td>\n",
       "      <td>282133</td>\n",
       "      <td>98.447067</td>\n",
       "      <td>-22.831075</td>\n",
       "      <td>8</td>\n",
       "      <td>0.277442</td>\n",
       "      <td>0.994</td>\n",
       "      <td>0.901</td>\n",
       "      <td>0.0763</td>\n",
       "      <td>0</td>\n",
       "    </tr>\n",
       "    <tr>\n",
       "      <th>0</th>\n",
       "      <td>earlyromanticera</td>\n",
       "      <td>282133</td>\n",
       "      <td>98.447067</td>\n",
       "      <td>-22.831075</td>\n",
       "      <td>8</td>\n",
       "      <td>0.277442</td>\n",
       "      <td>0.994</td>\n",
       "      <td>0.901</td>\n",
       "      <td>0.0763</td>\n",
       "      <td>0</td>\n",
       "    </tr>\n",
       "    <tr>\n",
       "      <th>1</th>\n",
       "      <td>classical</td>\n",
       "      <td>167333</td>\n",
       "      <td>98.447067</td>\n",
       "      <td>-22.831075</td>\n",
       "      <td>5</td>\n",
       "      <td>0.277442</td>\n",
       "      <td>0.992</td>\n",
       "      <td>0.883</td>\n",
       "      <td>0.0954</td>\n",
       "      <td>0</td>\n",
       "    </tr>\n",
       "    <tr>\n",
       "      <th>1</th>\n",
       "      <td>earlyromanticera</td>\n",
       "      <td>167333</td>\n",
       "      <td>98.447067</td>\n",
       "      <td>-22.831075</td>\n",
       "      <td>5</td>\n",
       "      <td>0.277442</td>\n",
       "      <td>0.992</td>\n",
       "      <td>0.883</td>\n",
       "      <td>0.0954</td>\n",
       "      <td>0</td>\n",
       "    </tr>\n",
       "    <tr>\n",
       "      <th>2</th>\n",
       "      <td>classical</td>\n",
       "      <td>118093</td>\n",
       "      <td>98.447067</td>\n",
       "      <td>-22.831075</td>\n",
       "      <td>10</td>\n",
       "      <td>0.277442</td>\n",
       "      <td>0.995</td>\n",
       "      <td>0.937</td>\n",
       "      <td>0.0791</td>\n",
       "      <td>0</td>\n",
       "    </tr>\n",
       "  </tbody>\n",
       "</table>\n",
       "</div>"
      ],
      "text/plain": [
       "             genres  duration_ms_x    tempo_y  loudness_y  key_x  valence_y  \\\n",
       "0         classical         282133  98.447067  -22.831075      8   0.277442   \n",
       "0  earlyromanticera         282133  98.447067  -22.831075      8   0.277442   \n",
       "1         classical         167333  98.447067  -22.831075      5   0.277442   \n",
       "1  earlyromanticera         167333  98.447067  -22.831075      5   0.277442   \n",
       "2         classical         118093  98.447067  -22.831075     10   0.277442   \n",
       "\n",
       "   acousticness_x  instrumentalness_x  liveness_x  explicit  \n",
       "0           0.994               0.901      0.0763         0  \n",
       "0           0.994               0.901      0.0763         0  \n",
       "1           0.992               0.883      0.0954         0  \n",
       "1           0.992               0.883      0.0954         0  \n",
       "2           0.995               0.937      0.0791         0  "
      ]
     },
     "execution_count": 12,
     "metadata": {},
     "output_type": "execute_result"
    }
   ],
   "source": [
    "multiple_genres = multiple_genres[['genres', 'duration_ms_x', 'tempo_y', 'loudness_y', 'key_x', 'valence_y', 'acousticness_x', 'instrumentalness_x', 'liveness_x','explicit']]\n",
    "multiple_genres.head()"
   ]
  },
  {
   "cell_type": "code",
   "execution_count": 13,
   "metadata": {},
   "outputs": [
    {
     "data": {
      "text/html": [
       "<div>\n",
       "<style scoped>\n",
       "    .dataframe tbody tr th:only-of-type {\n",
       "        vertical-align: middle;\n",
       "    }\n",
       "\n",
       "    .dataframe tbody tr th {\n",
       "        vertical-align: top;\n",
       "    }\n",
       "\n",
       "    .dataframe thead th {\n",
       "        text-align: right;\n",
       "    }\n",
       "</style>\n",
       "<table border=\"1\" class=\"dataframe\">\n",
       "  <thead>\n",
       "    <tr style=\"text-align: right;\">\n",
       "      <th></th>\n",
       "      <th>genres</th>\n",
       "      <th>duration</th>\n",
       "      <th>tempo</th>\n",
       "      <th>volume</th>\n",
       "      <th>key</th>\n",
       "      <th>valence</th>\n",
       "      <th>acoustic</th>\n",
       "      <th>instrumental</th>\n",
       "      <th>live</th>\n",
       "      <th>explicit</th>\n",
       "    </tr>\n",
       "  </thead>\n",
       "  <tbody>\n",
       "    <tr>\n",
       "      <th>0</th>\n",
       "      <td>classical</td>\n",
       "      <td>282133</td>\n",
       "      <td>98.447067</td>\n",
       "      <td>-22.831075</td>\n",
       "      <td>8</td>\n",
       "      <td>0.277442</td>\n",
       "      <td>0.994</td>\n",
       "      <td>0.901</td>\n",
       "      <td>0.0763</td>\n",
       "      <td>0</td>\n",
       "    </tr>\n",
       "    <tr>\n",
       "      <th>0</th>\n",
       "      <td>earlyromanticera</td>\n",
       "      <td>282133</td>\n",
       "      <td>98.447067</td>\n",
       "      <td>-22.831075</td>\n",
       "      <td>8</td>\n",
       "      <td>0.277442</td>\n",
       "      <td>0.994</td>\n",
       "      <td>0.901</td>\n",
       "      <td>0.0763</td>\n",
       "      <td>0</td>\n",
       "    </tr>\n",
       "    <tr>\n",
       "      <th>1</th>\n",
       "      <td>classical</td>\n",
       "      <td>167333</td>\n",
       "      <td>98.447067</td>\n",
       "      <td>-22.831075</td>\n",
       "      <td>5</td>\n",
       "      <td>0.277442</td>\n",
       "      <td>0.992</td>\n",
       "      <td>0.883</td>\n",
       "      <td>0.0954</td>\n",
       "      <td>0</td>\n",
       "    </tr>\n",
       "    <tr>\n",
       "      <th>1</th>\n",
       "      <td>earlyromanticera</td>\n",
       "      <td>167333</td>\n",
       "      <td>98.447067</td>\n",
       "      <td>-22.831075</td>\n",
       "      <td>5</td>\n",
       "      <td>0.277442</td>\n",
       "      <td>0.992</td>\n",
       "      <td>0.883</td>\n",
       "      <td>0.0954</td>\n",
       "      <td>0</td>\n",
       "    </tr>\n",
       "    <tr>\n",
       "      <th>2</th>\n",
       "      <td>classical</td>\n",
       "      <td>118093</td>\n",
       "      <td>98.447067</td>\n",
       "      <td>-22.831075</td>\n",
       "      <td>10</td>\n",
       "      <td>0.277442</td>\n",
       "      <td>0.995</td>\n",
       "      <td>0.937</td>\n",
       "      <td>0.0791</td>\n",
       "      <td>0</td>\n",
       "    </tr>\n",
       "  </tbody>\n",
       "</table>\n",
       "</div>"
      ],
      "text/plain": [
       "             genres  duration      tempo     volume  key   valence  acoustic  \\\n",
       "0         classical    282133  98.447067 -22.831075    8  0.277442     0.994   \n",
       "0  earlyromanticera    282133  98.447067 -22.831075    8  0.277442     0.994   \n",
       "1         classical    167333  98.447067 -22.831075    5  0.277442     0.992   \n",
       "1  earlyromanticera    167333  98.447067 -22.831075    5  0.277442     0.992   \n",
       "2         classical    118093  98.447067 -22.831075   10  0.277442     0.995   \n",
       "\n",
       "   instrumental    live  explicit  \n",
       "0         0.901  0.0763         0  \n",
       "0         0.901  0.0763         0  \n",
       "1         0.883  0.0954         0  \n",
       "1         0.883  0.0954         0  \n",
       "2         0.937  0.0791         0  "
      ]
     },
     "execution_count": 13,
     "metadata": {},
     "output_type": "execute_result"
    }
   ],
   "source": [
    "multiple_genres = multiple_genres.rename(columns={'duration_ms_x':'duration','tempo_y':'tempo','loudness_y':'volume','key_x':'key','valence_y':'valence','acousticness_x':'acoustic', 'instrumentalness_x':'instrumental', 'liveness_x':'live'})\n",
    "multiple_genres.head()"
   ]
  },
  {
   "cell_type": "code",
   "execution_count": 14,
   "metadata": {},
   "outputs": [],
   "source": [
    "multiple_genres.loc[:, 'is_classical'] = pd.get_dummies(multiple_genres['genres'])['classical']\n",
    "multiple_genres.loc[:, 'is_tango'] = pd.get_dummies(multiple_genres['genres'])['tango']\n",
    "multiple_genres.loc[:, 'is_neworleansjazz'] = pd.get_dummies(multiple_genres['genres'])['neworleansjazz']\n",
    "multiple_genres.loc[:, 'is_adultstandards'] = pd.get_dummies(multiple_genres['genres'])['adultstandards']\n",
    "multiple_genres.loc[:, 'is_acousticblues'] = pd.get_dummies(multiple_genres['genres'])['acousticblues']\n",
    "multiple_genres.loc[:, 'is_rebetiko'] = pd.get_dummies(multiple_genres['genres'])['rebetiko']\n",
    "multiple_genres.loc[:, 'is_cooljazz'] = pd.get_dummies(multiple_genres['genres'])['cooljazz']\n",
    "multiple_genres.loc[:, 'is_classicrock'] = pd.get_dummies(multiple_genres['genres'])['classicrock']\n",
    "multiple_genres.loc[:, 'is_rock'] = pd.get_dummies(multiple_genres['genres'])['rock']\n",
    "multiple_genres.loc[:, 'is_rap'] = pd.get_dummies(multiple_genres['genres'])['rap']\n",
    "multiple_genres.loc[:, 'is_pop'] = pd.get_dummies(multiple_genres['genres'])['pop']\n",
    "\n",
    "col_list = multiple_genres[['is_classical','is_tango','is_neworleansjazz','is_adultstandards','is_acousticblues','is_rebetiko','is_cooljazz','is_classicrock','is_rock','is_rap','is_pop']]"
   ]
  },
  {
   "cell_type": "code",
   "execution_count": 15,
   "metadata": {},
   "outputs": [
    {
     "name": "stdout",
     "output_type": "stream",
     "text": [
      " Classical duration slope: 0.8633461585075027 \n",
      " Tango duration slope: -1.082439221087707 \n",
      " Neworleansjazz duration slope: -0.4250455999051372 \n",
      " Adultstandards duration slope: -0.689159356288858 \n",
      " Acousticblues duration slope: -1.1635460037598901 \n",
      " Rebetiko duration slope: -0.79683695528448 \n",
      " Cooljazz duration slope: 0.9191830912357744 \n",
      " Classicrock duration slope: 0.13697564565722747 \n",
      " Rock duration slope: 0.19161352450936953 \n",
      " Pop duration slope: 0.031894526605366465 \n",
      " Rap duration slope: 0.09590022054917556 \n",
      "\n"
     ]
    }
   ],
   "source": [
    "#key metric 1: duration\n",
    "\n",
    "model = LinearRegression().fit(col_list, multiple_genres['duration']/60000) #convert duration to minutes instead of ms\n",
    "predictions = model.predict(col_list)\n",
    "print(\" Classical duration slope:\", model.coef_[0], '\\n',\n",
    "     \"Tango duration slope:\", model.coef_[1], '\\n',\n",
    "     \"Neworleansjazz duration slope:\", model.coef_[2], '\\n',\n",
    "     \"Adultstandards duration slope:\", model.coef_[3], '\\n',\n",
    "     \"Acousticblues duration slope:\", model.coef_[4], '\\n',\n",
    "     \"Rebetiko duration slope:\", model.coef_[5], '\\n',\n",
    "     \"Cooljazz duration slope:\", model.coef_[6], '\\n',\n",
    "      \"Classicrock duration slope:\", model.coef_[7], '\\n',\n",
    "      \"Rock duration slope:\", model.coef_[8], '\\n',\n",
    "      \"Pop duration slope:\", model.coef_[9], '\\n',\n",
    "     \"Rap duration slope:\", model.coef_[10], '\\n',)"
   ]
  },
  {
   "cell_type": "code",
   "execution_count": 16,
   "metadata": {},
   "outputs": [
    {
     "name": "stdout",
     "output_type": "stream",
     "text": [
      " Classical tempo slope: -15.542939294676858 \n",
      " Tango tempo slope: 1.3046967489410024 \n",
      " Neworleansjazz tempo slope: -2.107636507454286 \n",
      " Adultstandards tempo slope: -5.900936426449979 \n",
      " Acousticblues tempo slope: -2.2765503810346286 \n",
      " Rebetiko tempo slope: -4.194828506943871 \n",
      " Cooljazz tempo slope: -4.72016563497273 \n",
      " Classicrock tempo slope: 4.824671911192387 \n",
      " Rock tempo slope: 5.603082390008397 \n",
      " Pop tempo slope: -1.7118366365227915 \n",
      " Rap tempo slope: 1.7732053596349473 \n",
      "\n"
     ]
    }
   ],
   "source": [
    "#key metric 2: tempo\n",
    "\n",
    "model = LinearRegression().fit(col_list, multiple_genres['tempo'])\n",
    "predictions = model.predict(col_list)\n",
    "print(\" Classical tempo slope:\", model.coef_[0], '\\n',\n",
    "     \"Tango tempo slope:\", model.coef_[1], '\\n',\n",
    "     \"Neworleansjazz tempo slope:\", model.coef_[2], '\\n',\n",
    "     \"Adultstandards tempo slope:\", model.coef_[3], '\\n',\n",
    "     \"Acousticblues tempo slope:\", model.coef_[4], '\\n',\n",
    "     \"Rebetiko tempo slope:\", model.coef_[5], '\\n',\n",
    "     \"Cooljazz tempo slope:\", model.coef_[6], '\\n',\n",
    "      \"Classicrock tempo slope:\", model.coef_[7], '\\n',\n",
    "      \"Rock tempo slope:\", model.coef_[8], '\\n',\n",
    "      \"Pop tempo slope:\", model.coef_[9], '\\n',\n",
    "     \"Rap tempo slope:\", model.coef_[10], '\\n',)"
   ]
  },
  {
   "cell_type": "code",
   "execution_count": 17,
   "metadata": {},
   "outputs": [
    {
     "name": "stdout",
     "output_type": "stream",
     "text": [
      " Classical volume slope: -8.427114267897505 \n",
      " Tango volume slope: -2.151731672902211 \n",
      " Neworleansjazz volume slope: -1.0529644442425892 \n",
      " Adultstandards volume slope: -2.0383862111977065 \n",
      " Acousticblues volume slope: -1.2966267146984 \n",
      " Rebetiko volume slope: 0.5253170432352026 \n",
      " Cooljazz volume slope: -3.3064640697553824 \n",
      " Classicrock volume slope: 1.243951730150573 \n",
      " Rock volume slope: 2.20186618988539 \n",
      " Pop volume slope: 4.818864016733001 \n",
      " Rap volume slope: 4.642506956499317 \n",
      "\n"
     ]
    }
   ],
   "source": [
    "#key metric 3: volume\n",
    "\n",
    "model = LinearRegression().fit(col_list, multiple_genres['volume'])\n",
    "predictions = model.predict(col_list)\n",
    "print(\" Classical volume slope:\", model.coef_[0], '\\n',\n",
    "     \"Tango volume slope:\", model.coef_[1], '\\n',\n",
    "     \"Neworleansjazz volume slope:\", model.coef_[2], '\\n',\n",
    "     \"Adultstandards volume slope:\", model.coef_[3], '\\n',\n",
    "     \"Acousticblues volume slope:\", model.coef_[4], '\\n',\n",
    "     \"Rebetiko volume slope:\", model.coef_[5], '\\n',\n",
    "     \"Cooljazz volume slope:\", model.coef_[6], '\\n',\n",
    "      \"Classicrock volume slope:\", model.coef_[7], '\\n',\n",
    "      \"Rock volume slope:\", model.coef_[8], '\\n',\n",
    "      \"Pop volume slope:\", model.coef_[9], '\\n',\n",
    "     \"Rap volume slope:\", model.coef_[10], '\\n',)"
   ]
  },
  {
   "cell_type": "code",
   "execution_count": 18,
   "metadata": {},
   "outputs": [
    {
     "name": "stdout",
     "output_type": "stream",
     "text": [
      " Classical key slope: -0.11677142548772987 \n",
      " Tango key slope: 0.004526531911296959 \n",
      " Neworleansjazz key slope: -0.34864595782741137 \n",
      " Adultstandards key slope: 0.011700171813866858 \n",
      " Acousticblues key slope: 0.5583854137049851 \n",
      " Rebetiko key slope: 0.5338408146594575 \n",
      " Cooljazz key slope: -0.2922939004496314 \n",
      " Classicrock key slope: -0.07734165739682011 \n",
      " Rock key slope: 0.0051011746873415 \n",
      " Pop key slope: 0.3211444363370308 \n",
      " Rap key slope: 0.020678250897992273 \n",
      "\n"
     ]
    }
   ],
   "source": [
    "#key metric 4: key\n",
    "\n",
    "model = LinearRegression().fit(col_list, multiple_genres['key'])\n",
    "predictions = model.predict(col_list)\n",
    "print(\" Classical key slope:\", model.coef_[0], '\\n',\n",
    "     \"Tango key slope:\", model.coef_[1], '\\n',\n",
    "     \"Neworleansjazz key slope:\", model.coef_[2], '\\n',\n",
    "     \"Adultstandards key slope:\", model.coef_[3], '\\n',\n",
    "     \"Acousticblues key slope:\", model.coef_[4], '\\n',\n",
    "     \"Rebetiko key slope:\", model.coef_[5], '\\n',\n",
    "     \"Cooljazz key slope:\", model.coef_[6], '\\n',\n",
    "      \"Classicrock key slope:\", model.coef_[7], '\\n',\n",
    "      \"Rock key slope:\", model.coef_[8], '\\n',\n",
    "      \"Pop key slope:\", model.coef_[9], '\\n',\n",
    "     \"Rap key slope:\", model.coef_[10], '\\n',)"
   ]
  },
  {
   "cell_type": "code",
   "execution_count": 19,
   "metadata": {},
   "outputs": [
    {
     "name": "stdout",
     "output_type": "stream",
     "text": [
      " Classical valence slope: -0.26554581753448225 \n",
      " Tango valence slope: 0.18909003689482218 \n",
      " Neworleansjazz valence slope: 0.03943361853936583 \n",
      " Adultstandards valence slope: -0.0700500776840265 \n",
      " Acousticblues valence slope: 0.17164516963434812 \n",
      " Rebetiko valence slope: 0.17222540175246998 \n",
      " Cooljazz valence slope: -0.06719649068760716 \n",
      " Classicrock valence slope: 0.04683404210464218 \n",
      " Rock valence slope: 0.011910013367308276 \n",
      " Pop valence slope: -0.025364654608526816 \n",
      " Rap valence slope: -0.028864027150008693 \n",
      "\n"
     ]
    }
   ],
   "source": [
    "#key metric 5: valence\n",
    "\n",
    "model = LinearRegression().fit(col_list, multiple_genres['valence'])\n",
    "predictions = model.predict(col_list)\n",
    "print(\" Classical valence slope:\", model.coef_[0], '\\n',\n",
    "     \"Tango valence slope:\", model.coef_[1], '\\n',\n",
    "     \"Neworleansjazz valence slope:\", model.coef_[2], '\\n',\n",
    "     \"Adultstandards valence slope:\", model.coef_[3], '\\n',\n",
    "     \"Acousticblues valence slope:\", model.coef_[4], '\\n',\n",
    "     \"Rebetiko valence slope:\", model.coef_[5], '\\n',\n",
    "     \"Cooljazz valence slope:\", model.coef_[6], '\\n',\n",
    "      \"Classicrock valence slope:\", model.coef_[7], '\\n',\n",
    "      \"Rock valence slope:\", model.coef_[8], '\\n',\n",
    "      \"Pop valence slope:\", model.coef_[9], '\\n',\n",
    "     \"Rap valence slope:\", model.coef_[10], '\\n',)"
   ]
  },
  {
   "cell_type": "code",
   "execution_count": 20,
   "metadata": {},
   "outputs": [
    {
     "name": "stdout",
     "output_type": "stream",
     "text": [
      " Classical acoustic slope: 0.44752902317692667 \n",
      " Tango acoustic slope: 0.4785719402671505 \n",
      " Neworleansjazz acoustic slope: 0.3247772501083116 \n",
      " Adultstandards acoustic slope: 0.2575047415737328 \n",
      " Acousticblues acoustic slope: 0.4091400916951319 \n",
      " Rebetiko acoustic slope: 0.46015587444702466 \n",
      " Cooljazz acoustic slope: 0.28360890713990283 \n",
      " Classicrock acoustic slope: -0.1703392701051181 \n",
      " Rock acoustic slope: -0.2437457246601665 \n",
      " Pop acoustic slope: -0.33059060999364603 \n",
      " Rap acoustic slope: -0.25763922363735164 \n",
      "\n"
     ]
    }
   ],
   "source": [
    "#key metric 6: acoustic\n",
    "\n",
    "model = LinearRegression().fit(col_list, multiple_genres['acoustic'])\n",
    "predictions = model.predict(col_list)\n",
    "print(\" Classical acoustic slope:\", model.coef_[0], '\\n',\n",
    "     \"Tango acoustic slope:\", model.coef_[1], '\\n',\n",
    "     \"Neworleansjazz acoustic slope:\", model.coef_[2], '\\n',\n",
    "     \"Adultstandards acoustic slope:\", model.coef_[3], '\\n',\n",
    "     \"Acousticblues acoustic slope:\", model.coef_[4], '\\n',\n",
    "     \"Rebetiko acoustic slope:\", model.coef_[5], '\\n',\n",
    "     \"Cooljazz acoustic slope:\", model.coef_[6], '\\n',\n",
    "      \"Classicrock acoustic slope:\", model.coef_[7], '\\n',\n",
    "      \"Rock acoustic slope:\", model.coef_[8], '\\n',\n",
    "      \"Pop acoustic slope:\", model.coef_[9], '\\n',\n",
    "     \"Rap acoustic slope:\", model.coef_[10], '\\n',)"
   ]
  },
  {
   "cell_type": "code",
   "execution_count": 21,
   "metadata": {},
   "outputs": [
    {
     "name": "stdout",
     "output_type": "stream",
     "text": [
      " Classical instrumental slope: 0.4020945202117548 \n",
      " Tango instrumental slope: 0.3125425517548933 \n",
      " Neworleansjazz instrumental slope: 0.036553219440689774 \n",
      " Adultstandards instrumental slope: -0.016489729309421882 \n",
      " Acousticblues instrumental slope: -0.07335081422943747 \n",
      " Rebetiko instrumental slope: 0.18306860024389748 \n",
      " Cooljazz instrumental slope: 0.2056317744956493 \n",
      " Classicrock instrumental slope: -0.07024753309561721 \n",
      " Rock instrumental slope: -0.05573156235016655 \n",
      " Pop instrumental slope: -0.13644677023439178 \n",
      " Rap instrumental slope: -0.14240575497437788 \n",
      "\n"
     ]
    }
   ],
   "source": [
    "#key metric 7: instrumental\n",
    "\n",
    "model = LinearRegression().fit(col_list, multiple_genres['instrumental'])\n",
    "predictions = model.predict(col_list)\n",
    "print(\" Classical instrumental slope:\", model.coef_[0], '\\n',\n",
    "     \"Tango instrumental slope:\", model.coef_[1], '\\n',\n",
    "     \"Neworleansjazz instrumental slope:\", model.coef_[2], '\\n',\n",
    "     \"Adultstandards instrumental slope:\", model.coef_[3], '\\n',\n",
    "     \"Acousticblues instrumental slope:\", model.coef_[4], '\\n',\n",
    "     \"Rebetiko instrumental slope:\", model.coef_[5], '\\n',\n",
    "     \"Cooljazz instrumental slope:\", model.coef_[6], '\\n',\n",
    "      \"Classicrock instrumental slope:\", model.coef_[7], '\\n',\n",
    "      \"Rock instrumental slope:\", model.coef_[8], '\\n',\n",
    "      \"Pop instrumental slope:\", model.coef_[9], '\\n',\n",
    "     \"Rap instrumental slope:\", model.coef_[10], '\\n',)"
   ]
  },
  {
   "cell_type": "code",
   "execution_count": 22,
   "metadata": {},
   "outputs": [
    {
     "name": "stdout",
     "output_type": "stream",
     "text": [
      " Classical live slope: -0.022549831674967467 \n",
      " Tango live slope: -0.02327021389531604 \n",
      " Neworleansjazz live slope: 0.03635845984578165 \n",
      " Adultstandards live slope: -0.010136854073776359 \n",
      " Acousticblues live slope: -0.03033081575702418 \n",
      " Rebetiko live slope: -0.02015848195316304 \n",
      " Cooljazz live slope: -0.01994563809220421 \n",
      " Classicrock live slope: 0.028089221496186718 \n",
      " Rock live slope: 0.02662532100117667 \n",
      " Pop live slope: 0.00546346331724191 \n",
      " Rap live slope: -0.030423620564826503 \n",
      "\n"
     ]
    }
   ],
   "source": [
    "#key metric 8: live\n",
    "\n",
    "model = LinearRegression().fit(col_list, multiple_genres['live'])\n",
    "predictions = model.predict(col_list)\n",
    "print(\" Classical live slope:\", model.coef_[0], '\\n',\n",
    "     \"Tango live slope:\", model.coef_[1], '\\n',\n",
    "     \"Neworleansjazz live slope:\", model.coef_[2], '\\n',\n",
    "     \"Adultstandards live slope:\", model.coef_[3], '\\n',\n",
    "     \"Acousticblues live slope:\", model.coef_[4], '\\n',\n",
    "     \"Rebetiko live slope:\", model.coef_[5], '\\n',\n",
    "     \"Cooljazz live slope:\", model.coef_[6], '\\n',\n",
    "      \"Classicrock live slope:\", model.coef_[7], '\\n',\n",
    "      \"Rock live slope:\", model.coef_[8], '\\n',\n",
    "      \"Pop live slope:\", model.coef_[9], '\\n',\n",
    "     \"Rap live slope:\", model.coef_[10], '\\n',)"
   ]
  },
  {
   "cell_type": "code",
   "execution_count": 23,
   "metadata": {},
   "outputs": [
    {
     "name": "stdout",
     "output_type": "stream",
     "text": [
      " Classical explicit slope: -0.048552748488085364 \n",
      " Tango explicit slope: -0.048552748488066365 \n",
      " Neworleansjazz explicit slope: -0.04855274848809901 \n",
      " Adultstandards explicit slope: -0.0485527484880904 \n",
      " Acousticblues explicit slope: -0.04855274848811254 \n",
      " Rebetiko explicit slope: -0.048552748488111266 \n",
      " Cooljazz explicit slope: -0.04855274848810474 \n",
      " Classicrock explicit slope: -0.047102920178291506 \n",
      " Rock explicit slope: -0.021227072150395203 \n",
      " Pop explicit slope: 0.7336681066334281 \n",
      " Rap explicit slope: 0.07400214173146355 \n",
      "\n"
     ]
    }
   ],
   "source": [
    "#key metric 9: explicit\n",
    "\n",
    "model = LinearRegression().fit(col_list, multiple_genres['explicit'])\n",
    "predictions = model.predict(col_list)\n",
    "print(\" Classical explicit slope:\", model.coef_[0], '\\n',\n",
    "     \"Tango explicit slope:\", model.coef_[1], '\\n',\n",
    "     \"Neworleansjazz explicit slope:\", model.coef_[2], '\\n',\n",
    "     \"Adultstandards explicit slope:\", model.coef_[3], '\\n',\n",
    "     \"Acousticblues explicit slope:\", model.coef_[4], '\\n',\n",
    "     \"Rebetiko explicit slope:\", model.coef_[5], '\\n',\n",
    "     \"Cooljazz explicit slope:\", model.coef_[6], '\\n',\n",
    "      \"Classicrock explicit slope:\", model.coef_[7], '\\n',\n",
    "      \"Rock explicit slope:\", model.coef_[8], '\\n',\n",
    "      \"Pop explicit slope:\", model.coef_[9], '\\n',\n",
    "     \"Rap explicit slope:\", model.coef_[10], '\\n',)"
   ]
  },
  {
   "cell_type": "code",
   "execution_count": 24,
   "metadata": {},
   "outputs": [],
   "source": [
    "tango = multiple_genres[multiple_genres.genres == 'tango']\n",
    "acousticblues = multiple_genres[multiple_genres.genres == 'acousticblues']\n",
    "classical = multiple_genres[multiple_genres.genres == 'classical']\n",
    "cooljazz = multiple_genres[multiple_genres.genres == 'cooljazz']\n",
    "pop = multiple_genres[multiple_genres.genres == 'pop']\n",
    "rap = multiple_genres[multiple_genres.genres == 'rap']"
   ]
  },
  {
   "cell_type": "code",
   "execution_count": 25,
   "metadata": {},
   "outputs": [
    {
     "data": {
      "image/png": "[encoded data removed]",
      "text/plain": [
       "<Figure size 432x288 with 1 Axes>"
      ]
     },
     "metadata": {
      "needs_background": "light"
     },
     "output_type": "display_data"
    }
   ],
   "source": [
    "plt.hist(multiple_genres['duration'])\n",
    "plt.show()"
   ]
  },
  {
   "cell_type": "code",
   "execution_count": 26,
   "metadata": {},
   "outputs": [
    {
     "data": {
      "image/png": "[encoded data removed]",
      "text/plain": [
       "<Figure size 432x288 with 1 Axes>"
      ]
     },
     "metadata": {
      "needs_background": "light"
     },
     "output_type": "display_data"
    }
   ],
   "source": [
    "plt.hist(tango['duration'])\n",
    "plt.show()"
   ]
  },
  {
   "cell_type": "code",
   "execution_count": 27,
   "metadata": {},
   "outputs": [
    {
     "data": {
      "image/png": "[encoded data removed]",
      "text/plain": [
       "<Figure size 432x288 with 1 Axes>"
      ]
     },
     "metadata": {
      "needs_background": "light"
     },
     "output_type": "display_data"
    }
   ],
   "source": [
    "plt.hist(acousticblues['duration'])\n",
    "plt.show()"
   ]
  },
  {
   "cell_type": "code",
   "execution_count": 28,
   "metadata": {},
   "outputs": [
    {
     "data": {
      "image/png": "[encoded data removed]",
      "text/plain": [
       "<Figure size 432x288 with 1 Axes>"
      ]
     },
     "metadata": {
      "needs_background": "light"
     },
     "output_type": "display_data"
    }
   ],
   "source": [
    "plt.hist(classical['duration'])\n",
    "plt.show()"
   ]
  },
  {
   "cell_type": "code",
   "execution_count": 29,
   "metadata": {},
   "outputs": [
    {
     "data": {
      "image/png": "[encoded data removed]",
      "text/plain": [
       "<Figure size 432x288 with 1 Axes>"
      ]
     },
     "metadata": {
      "needs_background": "light"
     },
     "output_type": "display_data"
    }
   ],
   "source": [
    "plt.hist(cooljazz['duration'])\n",
    "plt.show()"
   ]
  },
  {
   "cell_type": "code",
   "execution_count": 30,
   "metadata": {},
   "outputs": [
    {
     "name": "stdout",
     "output_type": "stream",
     "text": [
      "The p-value for tango is 1.1710552391701611e-59\n",
      "The p-value for acousticblues is 6.998669802818649e-24\n",
      "The p-value for classical is 1.358467264476611e-12\n",
      "The p-value for cool jazz is 1.0565558268216325e-11\n"
     ]
    }
   ],
   "source": [
    "#Duration tests\n",
    "\n",
    "#Test null that tango has same mean duration as all other genres\n",
    "sampleTotal = np.random.normal(np.mean(multiple_genres['duration']), np.std(multiple_genres['duration']), 1000)\n",
    "sampleTango = np.random.normal(np.mean(tango['duration']), np.std(tango['duration']), 1000)\n",
    "ttest = ttest_ind(sampleTotal, sampleTango)\n",
    "print(\"The p-value for tango is\", ttest[1])\n",
    "\n",
    "#Test null that acoustic blues has same mean duration as all other genres\n",
    "sampleTotal = np.random.normal(np.mean(multiple_genres['duration']), np.std(multiple_genres['duration']), 1000)\n",
    "sampleAcousticblues = np.random.normal(np.mean(classical['duration']), np.std(acousticblues['duration']), 1000)\n",
    "ttest = ttest_ind(sampleTotal, sampleAcousticblues)\n",
    "print(\"The p-value for acousticblues is\", ttest[1])\n",
    "\n",
    "#Test null that classical has same mean duration as all other genres\n",
    "sampleTotal = np.random.normal(np.mean(multiple_genres['duration']), np.std(multiple_genres['duration']), 1000)\n",
    "sampleClassical = np.random.normal(np.mean(classical['duration']), np.std(classical['duration']), 1000)\n",
    "ttest = ttest_ind(sampleTotal, sampleClassical)\n",
    "print(\"The p-value for classical is\", ttest[1])\n",
    "\n",
    "#Test null that cool jazz has same mean duration as all other genres\n",
    "sampleTotal = np.random.normal(np.mean(multiple_genres['duration']), np.std(multiple_genres['duration']), 1000)\n",
    "sampleCooljazz = np.random.normal(np.mean(cooljazz['duration']), np.std(cooljazz['duration']), 1000)\n",
    "ttest = ttest_ind(sampleTotal, sampleCooljazz)\n",
    "print(\"The p-value for cool jazz is\", ttest[1])"
   ]
  },
  {
   "cell_type": "code",
   "execution_count": 31,
   "metadata": {},
   "outputs": [
    {
     "data": {
      "image/png": "[encoded data removed]",
      "text/plain": [
       "<Figure size 432x288 with 1 Axes>"
      ]
     },
     "metadata": {
      "needs_background": "light"
     },
     "output_type": "display_data"
    }
   ],
   "source": [
    "plt.hist(multiple_genres['tempo'])\n",
    "plt.show()"
   ]
  },
  {
   "cell_type": "code",
   "execution_count": 32,
   "metadata": {},
   "outputs": [
    {
     "data": {
      "image/png": "[encoded data removed]",
      "text/plain": [
       "<Figure size 432x288 with 1 Axes>"
      ]
     },
     "metadata": {
      "needs_background": "light"
     },
     "output_type": "display_data"
    }
   ],
   "source": [
    "plt.hist(classical['tempo'])\n",
    "plt.show()"
   ]
  },
  {
   "cell_type": "code",
   "execution_count": 33,
   "metadata": {},
   "outputs": [
    {
     "name": "stdout",
     "output_type": "stream",
     "text": [
      "The p-value for classical is 5.420416808732714e-273\n"
     ]
    }
   ],
   "source": [
    "#Test null that classical has same mean tempo as all other genres\n",
    "sampleTotal = np.random.normal(np.mean(multiple_genres['tempo']), np.std(multiple_genres['tempo']), 1000)\n",
    "sampleClassical = np.random.normal(np.mean(classical['tempo']), np.std(classical['tempo']), 1000)\n",
    "ttest = ttest_ind(sampleTotal, sampleClassical)\n",
    "print(\"The p-value for classical is\", ttest[1])"
   ]
  },
  {
   "cell_type": "code",
   "execution_count": 34,
   "metadata": {},
   "outputs": [
    {
     "data": {
      "image/png": "[encoded data removed]",
      "text/plain": [
       "<Figure size 432x288 with 1 Axes>"
      ]
     },
     "metadata": {
      "needs_background": "light"
     },
     "output_type": "display_data"
    }
   ],
   "source": [
    "plt.hist(multiple_genres['volume'])\n",
    "plt.show()"
   ]
  },
  {
   "cell_type": "code",
   "execution_count": 35,
   "metadata": {},
   "outputs": [
    {
     "data": {
      "image/png": "[encoded data removed]",
      "text/plain": [
       "<Figure size 432x288 with 1 Axes>"
      ]
     },
     "metadata": {
      "needs_background": "light"
     },
     "output_type": "display_data"
    }
   ],
   "source": [
    "plt.hist(classical['volume'])\n",
    "plt.show()"
   ]
  },
  {
   "cell_type": "code",
   "execution_count": 36,
   "metadata": {},
   "outputs": [
    {
     "data": {
      "image/png": "[encoded data removed]",
      "text/plain": [
       "<Figure size 432x288 with 1 Axes>"
      ]
     },
     "metadata": {
      "needs_background": "light"
     },
     "output_type": "display_data"
    }
   ],
   "source": [
    "plt.hist(pop['volume'])\n",
    "plt.show()"
   ]
  },
  {
   "cell_type": "code",
   "execution_count": 38,
   "metadata": {},
   "outputs": [
    {
     "data": {
      "image/png": "[encoded data removed]",
      "text/plain": [
       "<Figure size 432x288 with 1 Axes>"
      ]
     },
     "metadata": {
      "needs_background": "light"
     },
     "output_type": "display_data"
    }
   ],
   "source": [
    "plt.hist(rap['volume'])\n",
    "plt.show()"
   ]
  },
  {
   "cell_type": "code",
   "execution_count": 39,
   "metadata": {},
   "outputs": [
    {
     "name": "stdout",
     "output_type": "stream",
     "text": [
      "The p-value for classical is 0.0\n",
      "The p-value for pop is 0.0\n",
      "The p-value for rap is 0.0\n"
     ]
    }
   ],
   "source": [
    "#Volume tests\n",
    "\n",
    "#Test null that classical has same mean volume as all other genres\n",
    "sampleTotal = np.random.normal(np.mean(multiple_genres['volume']), np.std(multiple_genres['volume']), 1000)\n",
    "sampleClassical = np.random.normal(np.mean(classical['volume']), np.std(classical['volume']), 1000)\n",
    "ttest = ttest_ind(sampleTotal, sampleClassical)\n",
    "print(\"The p-value for classical is\", ttest[1])\n",
    "\n",
    "#Test null that pop has same mean volume as all other genres\n",
    "sampleTotal = np.random.normal(np.mean(multiple_genres['volume']), np.std(multiple_genres['volume']), 1000)\n",
    "samplePop = np.random.normal(np.mean(pop['volume']), np.std(pop['volume']), 1000)\n",
    "ttest = ttest_ind(sampleTotal, sampleClassical)\n",
    "print(\"The p-value for pop is\", ttest[1])\n",
    "\n",
    "#Test null that rap has same mean volume as all other genres\n",
    "sampleTotal = np.random.normal(np.mean(multiple_genres['volume']), np.std(multiple_genres['volume']), 1000)\n",
    "sampleRap = np.random.normal(np.mean(rap['volume']), np.std(rap['volume']), 1000)\n",
    "ttest = ttest_ind(sampleTotal, sampleClassical)\n",
    "print(\"The p-value for rap is\", ttest[1])"
   ]
  }
 ],
 "metadata": {
  "kernelspec": {
   "display_name": "Python 3",
   "language": "python",
   "name": "python3"
  },
  "language_info": {
   "codemirror_mode": {
    "name": "ipython",
    "version": 3
   },
   "file_extension": ".py",
   "mimetype": "text/x-python",
   "name": "python",
   "nbconvert_exporter": "python",
   "pygments_lexer": "ipython3",
   "version": "3.8.5"
  }
 },
 "nbformat": 4,
 "nbformat_minor": 4
}
